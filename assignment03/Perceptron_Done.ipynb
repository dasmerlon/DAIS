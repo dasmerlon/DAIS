{
 "cells": [
  {
   "cell_type": "markdown",
   "id": "763d39cb",
   "metadata": {},
   "source": [
    "# 4 Perceptron\n",
    "In this notebook we will want to look at the perceptron. What you have done manually in the previous task, we will now implement with Python and Numpy. Instead of choosing the weights by deliberation, first we will use the perceptron algorithm to learn the weights and later the backpropagation algorithm."
   ]
  },
  {
   "cell_type": "code",
   "execution_count": 48,
   "id": "4548a5df",
   "metadata": {},
   "outputs": [],
   "source": [
    "import numpy as np\n",
    "import matplotlib.pyplot as plt"
   ]
  },
  {
   "cell_type": "markdown",
   "id": "1a6c8aa0",
   "metadata": {},
   "source": [
    "## 4.0 Recap\n",
    "We need to implement three major parts for our objective: a data set, the foward pass and the backward pass.\n",
    "\n",
    "Remember that our perceptron has two inputs, a bias and three learnable weights.\n",
    "\n",
    "![Perceptron](./fig/PerceptronG.jpg)"
   ]
  },
  {
   "cell_type": "markdown",
   "id": "7254345a",
   "metadata": {},
   "source": [
    "## 4.1 The Data\n",
    "Our aim is to learn the boolean function AND ($\\land$). For that purpose we can create our own data with the corresponding target/labels. We will use 0 for False and 1 for True.\n",
    "Also, the variable that holds the data will be denominated with _x_ and the variable holding the labels will be _t_.\n"
   ]
  },
  {
   "cell_type": "markdown",
   "id": "8ef3eaed",
   "metadata": {},
   "source": [
    "### Task 4.1.1 Create the data\n",
    "We will need a dataset that holds all possible inputs for the Boolean function AND. Here is a quick reminder on how that function works:\n",
    "\n",
    "| A| B | A AND B  |\n",
    "| :--- | :--- | --- |\n",
    "| True | True | True |\n",
    "| True | False | False |\n",
    "| False | True | False |\n",
    "| False | False | False |\n",
    "\n",
    "Our dataset needs to contain all four possible combinations of True and False. As we have a bias, we can treat it just like an input neuron with a fixed input of True.\n",
    "\n",
    "The labels should contain the teaching signal or ground truth for each dataset sample (as a vector), i.e. the correct output of the corresponding input.\n",
    "\n",
    "Both, input data and labels, should be represented as Numpy Matrices/Vectors."
   ]
  },
  {
   "cell_type": "code",
   "execution_count": 49,
   "id": "5f7f4145",
   "metadata": {},
   "outputs": [],
   "source": [
    "x = np.array([[1,1,1], [1,1,0], [1,0,1], [1,0,0]])"
   ]
  },
  {
   "cell_type": "code",
   "execution_count": 50,
   "id": "dbedf7d2",
   "metadata": {},
   "outputs": [],
   "source": [
    "t = np.array([1,0,0,0])"
   ]
  },
  {
   "cell_type": "markdown",
   "id": "0a80fe23",
   "metadata": {},
   "source": [
    "## 4.2 The Forward Pass\n",
    "Now we have to setup all necessary functions to complete a first forward pass through our perceptron and obtain a prediction based on the input.\n",
    "We need to be able to calculate the inner activation of the neuron _h_, define the activation function _g_, and finally calculate the outer activation _y_."
   ]
  },
  {
   "cell_type": "markdown",
   "id": "3f983117",
   "metadata": {},
   "source": [
    "### Task 4.2.1 Inner activation _h_\n",
    "From the lecture we now that the inner activation _h_ is just a weighted sum of the inputs.\n",
    "\n",
    "$$  \\large h_i = \\sum_{j=1}^{n} w_{ij} x_j $$\n",
    "\n",
    "Complete the function `inner_activation(...)`. As inputs it should take the input activations and the synaptic weights and return inner activation _h_."
   ]
  },
  {
   "cell_type": "code",
   "execution_count": 51,
   "id": "c5573257",
   "metadata": {},
   "outputs": [],
   "source": [
    "def inner_activation(inputs, weights):\n",
    "    h = 0\n",
    "    if inputs.size != len(weights):\n",
    "        print(\"Not equal number of inputs and weights\")\n",
    "    \n",
    "    for i in range(inputs.size):\n",
    "        h = h + (inputs[i] * weights[i])\n",
    "    \n",
    "    return h"
   ]
  },
  {
   "cell_type": "markdown",
   "id": "1b3e5ba6",
   "metadata": {},
   "source": [
    "### Task 4.2.2 The activation function _g_\n",
    "The perceptron algorithm uses a step function as its activation function (sometimes also refered to as Heaviside function), to transfer the inner activation _h_ to the outer activation _y_. It looks as follows:\n",
    "\n",
    "$$    y_i = \n",
    "    \\begin{cases}\n",
    "      1 & \\text{if } h_i \\geq \\theta \\\\\n",
    "      0 & \\text{otherwise}\n",
    "    \\end{cases} $$\n",
    "    \n",
    "As the threshold, we define $\\theta$ to be 0.\n",
    "\n",
    "Complete the function `g(...)`. It should take the inner activation _h_ as an input and return the outer activation _y_."
   ]
  },
  {
   "cell_type": "code",
   "execution_count": 52,
   "id": "e0faaade",
   "metadata": {},
   "outputs": [],
   "source": [
    "def g(inner_act):\n",
    "    return 1 if inner_act >= 0 else 0"
   ]
  },
  {
   "cell_type": "markdown",
   "id": "a5b0d226",
   "metadata": {},
   "source": [
    "### Task 4.2.3 Plot the activation function\n",
    "In order to check if we have done it correctly, we can plot the activation function.\n",
    "Create artificial datapoints in the range of -1 to 1, feed them into the activation function and plot the outputs."
   ]
  },
  {
   "cell_type": "code",
   "execution_count": 53,
   "id": "3c683f24",
   "metadata": {},
   "outputs": [
    {
     "data": {
      "image/png": "[encoded data removed]",
      "text/plain": [
       "<Figure size 432x288 with 1 Axes>"
      ]
     },
     "metadata": {
      "needs_background": "light"
     },
     "output_type": "display_data"
    }
   ],
   "source": [
    "data_points = np.arange(-1, 1, 0.001)\n",
    "activated_data = []\n",
    "for data_point in data_points:\n",
    "    activated_data.append(g(data_point))\n",
    "    \n",
    "plt.plot(data_points, activated_data)\n",
    "plt.xlabel(\"h Value\")\n",
    "plt.ylabel(\"y Value\")\n",
    "plt.title(\"Activation function for the Perceptron\")\n",
    "plt.show()"
   ]
  },
  {
   "cell_type": "markdown",
   "id": "0983efaf",
   "metadata": {},
   "source": [
    "### Task 4.2.4 Putting it together\n",
    "Now we can combine our functions to compute the whole forward pass of the perceptron.\n",
    "\n",
    "Compete the function `forward_pass(...)`, which takes the input activations and the weights as inputs and returns the outer activation _y_."
   ]
  },
  {
   "cell_type": "code",
   "execution_count": 54,
   "id": "98945fb4",
   "metadata": {},
   "outputs": [],
   "source": [
    "def forward_pass(inputs, weights):\n",
    "    \"\"\"\n",
    "    preds = []\n",
    "    for each input in inputs:\n",
    "        do \n",
    "            preds += g(inner_act)\n",
    "    :param inputs:\n",
    "    :param weights:\n",
    "    \"\"\"\n",
    "    activations = []\n",
    "    for input_val in inputs:\n",
    "        activations.append(g(inner_activation(input_val, weights)))\n",
    "    return activations"
   ]
  },
  {
   "cell_type": "markdown",
   "id": "ca5da459",
   "metadata": {},
   "source": [
    "## 4.3 The Backward Pass\n",
    "The backward pass changes the weights in respect to the error.\n",
    "\n",
    "From the lecture we now that the update rule of the perceptron algorithm looks like this:\n",
    "\n",
    "$$ \\large \\Delta w_{ij} = \\eta (t_i - y_i) x_j $$\n",
    "$$ \\large w_{ij} \\leftarrow w_{ij} + \\Delta w_{ij} $$\n",
    "\n",
    "$\\eta$ is a hyperparameter that needs to be set. In our case, 0.01 is a reasonable value."
   ]
  },
  {
   "cell_type": "markdown",
   "id": "1b6121eb",
   "metadata": {},
   "source": [
    "### Task 4.3.1 Update the weights\n",
    "Complete the function `update(...)` which takes as input the current weights, the label, the input activation and the outer activation and returns the updated weights."
   ]
  },
  {
   "cell_type": "code",
   "execution_count": 55,
   "id": "9487cc8d",
   "metadata": {},
   "outputs": [],
   "source": [
    "def update(curr_weights, label, inputs, outer_act):\n",
    "    \"\"\"\n",
    "    x = inputs\n",
    "    y = outer_act\n",
    "    t = label\n",
    "    lern_rate * (t - y) * x\n",
    "    \n",
    "    :param curr_weights: The current weights as an array\n",
    "    :param label: The target value\n",
    "    :param inputs: The input values\n",
    "    :param outer_act: The outer activation\n",
    "    \"\"\"\n",
    "    lern_rate = 0.01\n",
    "    for i in range(len(curr_weights)):\n",
    "        # For each input value -> Calculate difference between target_value and actual_value, multiply input and lern rate -> get weight diff\n",
    "        delta_weight = lern_rate * (label - outer_act) * inputs[i]\n",
    "        curr_weights[i] = curr_weights[i] + delta_weight\n",
    "        \n",
    "    return curr_weights\n",
    "        "
   ]
  },
  {
   "cell_type": "markdown",
   "id": "f6878a54",
   "metadata": {},
   "source": [
    "## 4.4 Learning the boolean function\n",
    "Now we can use all the functions we have written, to piece together the perceptron algorithm and learn the AND function. Before we start, we need to set a start point in the weight space. For that purpose we define the weights more or less randomly before the learning starts."
   ]
  },
  {
   "cell_type": "code",
   "execution_count": 56,
   "id": "d17db9c1",
   "metadata": {},
   "outputs": [],
   "source": [
    "w = np.array([3.0,-3.0,-2.0])"
   ]
  },
  {
   "cell_type": "markdown",
   "id": "8b779136",
   "metadata": {},
   "source": [
    "### Task 4.4.1 The training loop\n",
    "In neural network training, you will often encouter a central training loop that iterates through the dataset and updates the weights regularly according to the generated predictions.\n",
    "Your task now is to write this training loop.\n",
    "\n",
    "For one epoch, step through all datapoints:\n",
    "  - compute the outer activation for the datapoint\n",
    "  - update the weights accordingly.\n",
    "  \n",
    "Do this for 1000 epochs.\n",
    "Every 50 epochs, print the current weights."
   ]
  },
  {
   "cell_type": "code",
   "execution_count": 57,
   "id": "d25dba3e",
   "metadata": {},
   "outputs": [
    {
     "name": "stdout",
     "output_type": "stream",
     "text": [
      "[ 2.98 -3.   -2.  ]\n",
      "[ 2.47 -2.51 -2.  ]\n",
      "[ 1.97 -2.01 -2.  ]\n",
      "[ 1.64 -1.67 -1.67]\n",
      "[ 1.31 -1.34 -1.33]\n",
      "[ 0.98 -1.   -1.  ]\n",
      "[ 0.64 -0.67 -0.67]\n",
      "[ 0.31 -0.34 -0.33]\n",
      "[-1.00000000e-02 -1.00000000e-02  1.64104841e-15]\n",
      "[-0.03  0.01  0.02]\n",
      "[-0.03  0.01  0.02]\n",
      "[-0.03  0.01  0.02]\n",
      "[-0.03  0.01  0.02]\n",
      "[-0.03  0.01  0.02]\n",
      "[-0.03  0.01  0.02]\n",
      "[-0.03  0.01  0.02]\n",
      "[-0.03  0.01  0.02]\n",
      "[-0.03  0.01  0.02]\n",
      "[-0.03  0.01  0.02]\n",
      "[-0.03  0.01  0.02]\n"
     ]
    },
    {
     "data": {
      "image/png": "[encoded data removed]",
      "text/plain": [
       "<Figure size 1440x720 with 2 Axes>"
      ]
     },
     "metadata": {
      "needs_background": "light"
     },
     "output_type": "display_data"
    }
   ],
   "source": [
    "\"\"\"\n",
    "x = data_point with inputs\n",
    "w = weights\n",
    "t = labels for data_points\n",
    "\n",
    "-> for data_point, label in x, t:\n",
    "\"\"\"\n",
    "epochs = 1000\n",
    "weights = w.copy()\n",
    "weight_history = [weights.copy()]\n",
    "\n",
    "if len(x) != len(t):\n",
    "    print(\"Uneven number of datapoints and labels\")\n",
    "\n",
    "for i in range(epochs):\n",
    "    # Diese Schleife in forward pass?\n",
    "    for j in range(len(x)):\n",
    "        outer_act = forward_pass(x, weights)\n",
    "        weights = update(weights, t[j], x[j], outer_act[j])\n",
    "        \n",
    "    weight_history.append(weights.copy())\n",
    "        \n",
    "    if i % 50 == 0:\n",
    "        print(weights)\n",
    "        \n",
    "fig = plt.figure(figsize=[20, 10])\n",
    "\n",
    "ax1 = fig.add_axes([0, 0, 1, 1])\n",
    "ax1.plot(weight_history, label=[\"A-Weight\", \"B-Weight\", \"Bias-Weight\"])\n",
    "ax1.legend()\n",
    "ax1.grid(True)\n",
    "ax1.set_xlabel(\"Epoch\")\n",
    "ax1.set_ylabel(\"Weight\")\n",
    "ax1.set_title(\"Development of the weights during fitting\")\n",
    "\n",
    "ax2 = fig.add_axes([0.5, 0.6, .4, .3])\n",
    "ax2.plot(np.arange(380, 1001, 1), weight_history[380:], label=[\"A-Weight\", \"B-Weight\", \"Bias-Weight\"])\n",
    "ax2.legend()\n",
    "ax2.grid(True)\n",
    "ax2.set_xlabel(\"Epoch\")\n",
    "ax2.set_ylabel(\"Weight\")\n",
    "ax2.set_title(\"Development of the weights during fitting Closeup\")\n",
    "\n",
    "plt.show()"
   ]
  },
  {
   "cell_type": "markdown",
   "id": "c6188894",
   "metadata": {},
   "source": [
    "As you might have realised, the weights do not change anymore after a certain point. The perceptron algorithm has converged.\n",
    "We now have a set of weights, that we can use for predicting Boolean values. But before we deploy our model, we need to evaluate its quality. Has it really learned the function properly?"
   ]
  },
  {
   "cell_type": "markdown",
   "id": "e790f568",
   "metadata": {},
   "source": [
    "### Task 4.4.2 The error _E(w)_\n",
    "In order to evaluate how good our current set of weights _w_ is, we can compute the error.\n",
    "\n",
    "$$ \\large E(w) = \\frac{1}{2} \\sum_i (t_i - y_i)^2 $$\n",
    "\n",
    "Implement the function `error(...)` which takes predcitions (outer activations) and (labels) as input and returns the error.\n",
    "\n",
    "Afterwards, compute the prediction error for the whole dataset. If it is zero, your model predicts perfectly."
   ]
  },
  {
   "cell_type": "code",
   "execution_count": 58,
   "id": "e5701db4",
   "metadata": {},
   "outputs": [],
   "source": [
    "def error(predictions, labels):\n",
    "    if len(predictions) != len(labels):\n",
    "        print(\"Not equal number of predictions and actual values (labels)\")\n",
    "    \n",
    "    sum_error = 0\n",
    "    for i in range(len(labels)):\n",
    "        sum_error = sum_error + (labels[i] - predictions[i]) ** 2\n",
    "        \n",
    "    return (0.5 * sum_error)"
   ]
  },
  {
   "cell_type": "code",
   "execution_count": 59,
   "id": "ab566027",
   "metadata": {},
   "outputs": [
    {
     "name": "stdout",
     "output_type": "stream",
     "text": [
      "0.0\n"
     ]
    }
   ],
   "source": [
    "# getting the prediction error for the whole dataset\n",
    "# TODO this right? added for loop\n",
    "preds = forward_pass(x, weights)\n",
    "print(error(t,preds))"
   ]
  },
  {
   "cell_type": "markdown",
   "id": "f15fcc40",
   "metadata": {},
   "source": [
    "## 4.5 Deploy the model\n",
    "Now that we have a perfectly working and evaluated model, the most interesting part for the machine learning researcher is done. However, the end user, who might not be as familiar with neural networks as we are, might have trouble applying the model to new, unseen data.\n",
    "\n",
    "### Task 4.5.1 The AND function\n",
    "We want to write a function that does not require the user to know about inner and outer activations or transfer functions but still enable them to harness the power of our model.\n",
    "\n",
    "\n",
    "Complete the function `AND(...)` that takes as input too boolean values A and B and returns the prediction of our perceptron model.\n"
   ]
  },
  {
   "cell_type": "code",
   "execution_count": 86,
   "id": "a76884dc-9019-4c34-9fb8-c818e33addd1",
   "metadata": {},
   "outputs": [
    {
     "name": "stdout",
     "output_type": "stream",
     "text": [
      "[[1], [0]]\n",
      "[0]\n",
      "[0]\n",
      "[0]\n"
     ]
    }
   ],
   "source": [
    "def AND(a, b):\n",
    "    bias = 1\n",
    "    data_point = np.array([[bias, a, b]])\n",
    "    return forward_pass(data_point, weights)\n",
    "\n",
    "\n",
    "def AND2(inputs):\n",
    "    bias = 1\n",
    "    results = []\n",
    "    for i in range(len(inputs)):\n",
    "        data_point = np.array([[bias, inputs[i][0], inputs[i][1]]])\n",
    "        results.append(forward_pass(data_point, weights))\n",
    "        \n",
    "    return results\n",
    "\n",
    "\n",
    "print(AND2([[1, 1], [1, 0]]))\n",
    "print(AND(1, 0))\n",
    "print(AND(0, 1))\n",
    "print(AND(0, 0))"
   ]
  }
 ],
 "metadata": {
  "kernelspec": {
   "display_name": "Python 3 (ipykernel)",
   "language": "python",
   "name": "python3"
  },
  "language_info": {
   "codemirror_mode": {
    "name": "ipython",
    "version": 3
   },
   "file_extension": ".py",
   "mimetype": "text/x-python",
   "name": "python",
   "nbconvert_exporter": "python",
   "pygments_lexer": "ipython3",
   "version": "3.9.2"
  }
 },
 "nbformat": 4,
 "nbformat_minor": 5
}
