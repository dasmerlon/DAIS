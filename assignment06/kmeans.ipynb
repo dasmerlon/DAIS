{
 "cells": [
  {
   "cell_type": "markdown",
   "id": "c4e218c5",
   "metadata": {},
   "source": [
    "# 2 _k_-Means Clustering"
   ]
  },
  {
   "cell_type": "markdown",
   "id": "6f77f2ae",
   "metadata": {},
   "source": [
    "In this notebook, we will explore and cluster data with the _k_-Means algorithm.\n",
    "\n",
    "In _k_-Means, a dataset is partitioned in _k_ clusters while trying to minimize the sum of squared distances of each point to its cluster center. One of the characteristics of this algorithm is that the number of clusters _k_ is predefined, i.e., the choice is left to the machine learning practitioner.\n",
    "\n",
    "You can find an overview of the algorithm in the lecture slides.\n",
    "\n",
    "As usual, we start with importing the packages:"
   ]
  },
  {
   "cell_type": "code",
   "execution_count": 9,
   "id": "e7814ce0",
   "metadata": {},
   "outputs": [],
   "source": [
    "import numpy as np\n",
    "import math\n",
    "from sklearn.datasets import load_iris\n",
    "from sklearn.decomposition import PCA\n",
    "import matplotlib.pyplot as plt\n",
    "np.random.seed(1337) # seeds help with reproducible results\n",
    "%matplotlib inline"
   ]
  },
  {
   "cell_type": "markdown",
   "id": "0bbb3b32",
   "metadata": {},
   "source": [
    "## 2.1 The Dataset\n",
    "We are going to use a familiar dataset, the [Iris Dataset](https://scikit-learn.org/stable/auto_examples/datasets/plot_iris_dataset.html).\n",
    "The dataset contains four features: sepal length, sepal width, petal length and petal width. We want to be able to look at our clustering results later. Four-dimensional data are hard to visualize for human brains. Thankfully, we know a handy dimensionality reduction technique, i.e., Principal Component Analysis (PCA)."
   ]
  },
  {
   "cell_type": "markdown",
   "id": "42340ff3",
   "metadata": {},
   "source": [
    "### Task 2.1.1 Transform the Data\n",
    " 1. Load the Iris Dataset.\n",
    " 2. Use the PCA class from sklearn to project the dataset into a two-dimensional space."
   ]
  },
  {
   "cell_type": "code",
   "execution_count": 10,
   "id": "23bb987b",
   "metadata": {},
   "outputs": [],
   "source": [
    "iris = load_iris()\n",
    "pca = PCA(n_components=2, svd_solver='full')\n",
    "data = pca.fit_transform(iris.data)"
   ]
  },
  {
   "cell_type": "markdown",
   "id": "ef2e3160",
   "metadata": {},
   "source": [
    "## 2.2 Initialization\n",
    "Before we start with the learning phase, we need to set up a few initial parameters."
   ]
  },
  {
   "cell_type": "markdown",
   "id": "767d2b59",
   "metadata": {},
   "source": [
    "### Task 2.2.1 The _k_-Question\n",
    "As mentioned, the choice of the right _k_ is an important decision for the success of the algorithm. The number of clusters you will retrieve in the end depends on _k_. Too many or too few clusters might give you suboptimal results.\n",
    "\n",
    "Fortunately, we know that the Iris Dataset is labeled. Those labels already partition the data. Therefore, let's choose _k_ according to the number of labels."
   ]
  },
  {
   "cell_type": "code",
   "execution_count": 21,
   "id": "9cd4e271",
   "metadata": {},
   "outputs": [
    {
     "name": "stdout",
     "output_type": "stream",
     "text": [
      "3\n"
     ]
    }
   ],
   "source": [
    "k = len(iris.target_names)\n",
    "print(k)"
   ]
  },
  {
   "cell_type": "markdown",
   "id": "031ef7a4",
   "metadata": {},
   "source": [
    "### Task 2.2.2 The First Cluster Centers\n",
    "You have to start somewhere! Theoretically, you could choose arbitrary points in the input space. Unfortunately, if we choose those randomly, the algorithm might take a while to converge.\n",
    "\n",
    "In order to speed things up a little, let's choose different random datapoints from the dataset as the initial cluster centers.\n",
    "\n",
    "_Hint: `numpy.random` has a few good functions for that purpose._"
   ]
  },
  {
   "cell_type": "code",
   "execution_count": 22,
   "id": "a87a2505",
   "metadata": {},
   "outputs": [
    {
     "name": "stdout",
     "output_type": "stream",
     "text": [
      "[[0.13642871155801442, -0.31403243824923693], [0.588006443339863, -0.4842874199812185], [1.2981838753589132, -0.3277873083339175]]\n"
     ]
    }
   ],
   "source": [
    "centroids = [data[np.random.randint(0, len(data))].tolist(), data[np.random.randint(0, len(data))].tolist(), data[np.random.randint(0, len(data))].tolist()]\n",
    "print(centroids)"
   ]
  },
  {
   "cell_type": "markdown",
   "id": "a2efd7ba",
   "metadata": {},
   "source": [
    "## 2.3 The Algorithm\n",
    "Now the algorithm goes as follows:\n",
    "\n",
    "    - obtain the distance of each point to each cluster center\n",
    "    - assign that point to the nearest cluster\n",
    "    - move position of centre to mean of points in cluster\n",
    "    \n",
    "Thus, we need a few calculation steps. Note that the use of libraries outside the Python Standard Library and `numpy` is not allowed in the following tasks, unless stated otherwise."
   ]
  },
  {
   "cell_type": "markdown",
   "id": "4e8917ab",
   "metadata": {},
   "source": [
    "### Task 2.3.1 Compute the Distances\n",
    "Complete the function `distances(...)` that takes a list/array of datapoints and a list/array of cluster centers and returns the distance of each data point to each cluster center."
   ]
  },
  {
   "cell_type": "code",
   "execution_count": 23,
   "id": "10274ea2",
   "metadata": {},
   "outputs": [],
   "source": [
    "def distances(data, centroids):\n",
    "    \n",
    "    data_distance_array = []\n",
    "    \n",
    "    for datapoint in data:\n",
    "        \n",
    "        distances_to_centroid = []\n",
    "        \n",
    "        for centroid in centroids:\n",
    "            distances_to_centroid.append(np.linalg.norm(datapoint-centroid))\n",
    "            \n",
    "        data_distance_array.append(distances_to_centroid)\n",
    "        \n",
    "    return data_distance_array"
   ]
  },
  {
   "cell_type": "markdown",
   "id": "62fc79ae",
   "metadata": {},
   "source": [
    "### Task 2.3.2 Assign Data Points to Clusters\n",
    "Now that we can compute the distances to the cluster centres, we need to assign the points to their respective clusters.\n",
    "\n",
    "Complete the function `compute_assignments(...)` that takes a list/array of data points and a list/array of cluster centers and returns a list of assignments of each data point to the nearest cluster center.\n",
    "\n",
    "_Hint: Make ample use of the `distances(...)` function you just wrote._"
   ]
  },
  {
   "cell_type": "code",
   "execution_count": 24,
   "id": "da601a49",
   "metadata": {},
   "outputs": [],
   "source": [
    "def compute_assignments(data, centroids):\n",
    "    \n",
    "    cluster_assignments = []\n",
    "    data_distances = distances(data, centroids)\n",
    "    \n",
    "    for i in range(len(data_distances)):\n",
    "        nearest_center = np.argmin(data_distances[i])\n",
    "        cluster_assignments.append([data[i], nearest_center])\n",
    "        \n",
    "    return cluster_assignments"
   ]
  },
  {
   "cell_type": "markdown",
   "id": "d31f52ff",
   "metadata": {},
   "source": [
    "### Task 2.3.3 Update Cluster Centers\n",
    "Now that we have our clusters, we can compute new centers that better represent the cluster.\n",
    "\n",
    "Complete the function `update_centers()` that takes takes a list/array of data points and a list/array of assignments and returns the new cluster centers."
   ]
  },
  {
   "cell_type": "code",
   "execution_count": 25,
   "id": "b5193a20",
   "metadata": {},
   "outputs": [],
   "source": [
    "def update_centers(data, assignments):\n",
    "    \n",
    "    new_centers = []\n",
    "    assignments = np.asarray(assignments)\n",
    "    \n",
    "    for centroid in np.unique(assignments[:,1]):\n",
    "        \n",
    "        assigned_points = []\n",
    "        \n",
    "        for j in range(len(assignments)):\n",
    "            if assignments[j,1] == centroid:\n",
    "                assigned_points.append(assignments[j, 0])\n",
    "                \n",
    "        length = len(assigned_points)\n",
    "        pos_sum = [0, 0]\n",
    "        \n",
    "        for datapoint in assigned_points:\n",
    "            pos_sum[0] += datapoint[0]\n",
    "            pos_sum[1] += datapoint[1]\n",
    "            \n",
    "        new_center = [pos_sum[0] / length, pos_sum[1] / length]\n",
    "        new_centers.append(new_center)\n",
    "        \n",
    "    return new_centers"
   ]
  },
  {
   "cell_type": "markdown",
   "id": "4e6f42cb",
   "metadata": {},
   "source": [
    "The most important parts are done! Theoretically, we only need to run the algorithm repeatedly until the cluster centers do not change anymore."
   ]
  },
  {
   "cell_type": "markdown",
   "id": "8094eeec",
   "metadata": {},
   "source": [
    "## 2.4 Cluster Quality\n",
    "As we have seen in previous assignments, blindly running an algorithm without evaluating the quality of its results is not always the best idea.\n",
    "\n",
    "Hence, we will use the Davies Bouldin (DB) Index to evaluate the quality of our clusters (see also the theory about the DB index in the lecture).\n",
    "\n",
    "### Task 2.4.1 The Davies-Bouldin Index\n",
    "\n",
    "Write a function `db_index(...)` that takes a list/array of data points, a list/array of cluster centers, and a list/array of assignments and returns the Davies-Bouldin Index.\n",
    "\n",
    "You will need to:\n",
    "    \n",
    "    - calculate the radii of the clusters, R\n",
    "    - calculate the inter class distance between the clusters\n",
    "    - calculate the badness of separation between the clusters, D\n",
    "    \n",
    "Lastly, you need to take the average over the relevant D-values of each cluster.\n",
    "\n",
    "All necessary formulas can be found in Lecture 19 (_Basic Clustering_)."
   ]
  },
  {
   "cell_type": "code",
   "execution_count": 26,
   "id": "8b4c4c08",
   "metadata": {},
   "outputs": [],
   "source": [
    "def db_index(data, centroids, assignments):\n",
    "    # da hell??\n",
    "    radii = []\n",
    "    \n",
    "    assignments = np.asarray(assignments)\n",
    "    \n",
    "    for centroid in np.unique(assignments[:,1]):\n",
    "        \n",
    "        assigned_points = []\n",
    "        \n",
    "        for j in range(len(assignments)):\n",
    "            if assignments[j,1] == centroid:\n",
    "                assigned_points.append(assignments[j, 0])\n",
    "                \n",
    "        length = len(assigned_points)\n",
    "        radius = 0\n",
    "        \n",
    "        for datapoint in assigned_points:\n",
    "            radius += np.linalg.norm(datapoint-centroid)**2\n",
    "        radius /= length\n",
    "        radii.append(math.sqrt(radius))\n",
    "    \n",
    "    centroid_distances = []\n",
    "        \n",
    "    for centroid_a in centroids:\n",
    "        row = []\n",
    "        for centroid_b in centroids:\n",
    "            row.append(np.linalg.norm(np.asarray(centroid_a)-centroid_b))\n",
    "        centroid_distances.append(row)\n",
    "                       \n",
    "    badness_array = []\n",
    "        \n",
    "    for i in range(len(radii)):\n",
    "        row = []\n",
    "        for j in range(len(radii)):\n",
    "            if centroid_distances[i][j] != 0:\n",
    "                row.append(np.linalg.norm((radii[i]+radii[j])/centroid_distances[i][j]))\n",
    "            else:\n",
    "                row.append(0)\n",
    "        badness_array.append(row)\n",
    "                       \n",
    "    db = 0\n",
    "        \n",
    "    for v in range(len(badness_array)):\n",
    "        values = badness_array[v]\n",
    "        del values[v]\n",
    "        worst_value = max(values)\n",
    "        db += worst_value/len(centroids)\n",
    "    \n",
    "    print(radii)\n",
    "    print(centroid_distances)\n",
    "    print(badness_array)\n",
    "    \n",
    "    return db"
   ]
  },
  {
   "cell_type": "markdown",
   "id": "763d1f6e",
   "metadata": {},
   "source": [
    "## 2.5 Learning Phase"
   ]
  },
  {
   "cell_type": "markdown",
   "id": "13b1f168",
   "metadata": {},
   "source": [
    "### Task 2.5.1 Iterative Clustering\n",
    "Finally, we have all the ingredients in order to cluster our data. Remember, we already initialized the first cluster centers.\n",
    "\n",
    "Therefore, for 20 iterations, you will need to:\n",
    "\n",
    "    - compute the cluster assignments\n",
    "    - compute the new cluster centres according to the assignments\n",
    "    - compute the DB index for the current assignments and cluster centers\n",
    "    \n",
    "Do not forget to log relevant data for each iteration:\n",
    "\n",
    "    - the cluster centers\n",
    "    - the cluster assignments\n",
    "    - the DB-Index"
   ]
  },
  {
   "cell_type": "code",
   "execution_count": 27,
   "id": "8e24e72d",
   "metadata": {
    "collapsed": true,
    "jupyter": {
     "outputs_hidden": true
    },
    "tags": []
   },
   "outputs": [
    {
     "name": "stdout",
     "output_type": "stream",
     "text": [
      "[[0.13642871155801442, -0.31403243824923693], [0.588006443339863, -0.4842874199812185], [1.2981838753589132, -0.3277873083339175]]\n",
      "[2.299696057338985, 1.4407021556729327, 2.0811712204905586]\n",
      "[[0.0, 2.542979123069177, 3.758023688438128], [2.542979123069177, 0.0, 1.3087227421077992], [3.758023688438128, 1.3087227421077992, 0.0]]\n",
      "[[1.4708725600930415, 1.1657370046143258], [1.4708725600930415, 2.691076774971635], [1.1657370046143258, 2.691076774971635]]\n",
      "[[-1.8712778686297642, -0.029783311053579953], [0.6524676256405526, -0.3419555399849076], [1.884524993020995, 0.09939450158496727]]\n",
      "[2.656535582903618, 1.5407824613449894, 1.9677151454206947]\n",
      "[[0.0, 3.204404230560034, 4.741039475279907], [3.204404230560034, 0.0, 1.6621263641735244], [4.741039475279907, 1.6621263641735244, 0.0]]\n",
      "[[1.3098591008647626, 0.9753664259568945], [1.3098591008647626, 2.110848899572235], [0.9753664259568945, 2.110848899572235]]\n",
      "[[-2.572622417925405, 0.1496782309754341], [0.5940348792096001, -0.34071756359530636], [2.1682212869091795, 0.19276271185505434]]\n",
      "[2.6981811368206037, 1.5777043675839224, 1.929482845531652]\n",
      "[[0.0, 3.2860463854427278, 4.884068132604954], [3.2860463854427278, 0.0, 1.745190083255575], [4.884068132604954, 1.745190083255575, 0.0]]\n",
      "[[1.3012249380735499, 0.9475019300936854], [1.3012249380735499, 2.00963049627985], [0.9475019300936854, 2.00963049627985]]\n",
      "[[-2.6424154639468513, 0.19088504677006962], [0.5981475877566326, -0.3539561734174432], [2.2414660973402434, 0.23357484938348183]]\n",
      "[2.6981811368206037, 1.5608756052595838, 1.8925820315828943]\n",
      "[[0.0, 3.339645823061992, 4.964262015512137], [3.339645823061992, 0.0, 1.7762403657863695], [4.964262015512137, 1.7762403657863695, 0.0]]\n",
      "[[1.2753019235360783, 0.9247624629921741], [1.2753019235360783, 1.944251298057613], [0.9247624629921741, 1.944251298057613]]\n",
      "[[-2.6424154639468513, 0.19088504677006962], [0.6545701979638837, -0.3412049537471767], [2.3211640329877277, 0.2732011221581745]]\n",
      "[2.6981811368206037, 1.551630919451561, 1.8929456807455676]\n",
      "[[0.0, 3.3490990107034704, 4.989633320383179], [3.3490990107034704, 0.0, 1.7866003246486095], [4.989633320383179, 1.7866003246486095, 0.0]]\n",
      "[[1.2689418983105851, 0.92013310854145], [1.2689418983105851, 1.9280062544904168], [0.92013310854145, 1.9280062544904168]]\n",
      "[[-2.6424154639468513, 0.19088504677006962], [0.6656760051566413, -0.331604202439578], [2.3465265867381286, 0.2739385643669395]]\n",
      "[2.6981811368206037, 1.551630919451561, 1.8929456807455676]\n",
      "[[0.0, 3.3490990107034704, 4.989633320383179], [3.3490990107034704, 0.0, 1.7866003246486095], [4.989633320383179, 1.7866003246486095, 0.0]]\n",
      "[[1.2689418983105851, 0.92013310854145], [1.2689418983105851, 1.9280062544904168], [0.92013310854145, 1.9280062544904168]]\n",
      "[[-2.6424154639468513, 0.19088504677006962], [0.6656760051566413, -0.331604202439578], [2.3465265867381286, 0.2739385643669395]]\n",
      "[2.6981811368206037, 1.551630919451561, 1.8929456807455676]\n",
      "[[0.0, 3.3490990107034704, 4.989633320383179], [3.3490990107034704, 0.0, 1.7866003246486095], [4.989633320383179, 1.7866003246486095, 0.0]]\n",
      "[[1.2689418983105851, 0.92013310854145], [1.2689418983105851, 1.9280062544904168], [0.92013310854145, 1.9280062544904168]]\n",
      "[[-2.6424154639468513, 0.19088504677006962], [0.6656760051566413, -0.331604202439578], [2.3465265867381286, 0.2739385643669395]]\n",
      "[2.6981811368206037, 1.551630919451561, 1.8929456807455676]\n",
      "[[0.0, 3.3490990107034704, 4.989633320383179], [3.3490990107034704, 0.0, 1.7866003246486095], [4.989633320383179, 1.7866003246486095, 0.0]]\n",
      "[[1.2689418983105851, 0.92013310854145], [1.2689418983105851, 1.9280062544904168], [0.92013310854145, 1.9280062544904168]]\n",
      "[[-2.6424154639468513, 0.19088504677006962], [0.6656760051566413, -0.331604202439578], [2.3465265867381286, 0.2739385643669395]]\n",
      "[2.6981811368206037, 1.551630919451561, 1.8929456807455676]\n",
      "[[0.0, 3.3490990107034704, 4.989633320383179], [3.3490990107034704, 0.0, 1.7866003246486095], [4.989633320383179, 1.7866003246486095, 0.0]]\n",
      "[[1.2689418983105851, 0.92013310854145], [1.2689418983105851, 1.9280062544904168], [0.92013310854145, 1.9280062544904168]]\n",
      "[[-2.6424154639468513, 0.19088504677006962], [0.6656760051566413, -0.331604202439578], [2.3465265867381286, 0.2739385643669395]]\n",
      "[2.6981811368206037, 1.551630919451561, 1.8929456807455676]\n",
      "[[0.0, 3.3490990107034704, 4.989633320383179], [3.3490990107034704, 0.0, 1.7866003246486095], [4.989633320383179, 1.7866003246486095, 0.0]]\n",
      "[[1.2689418983105851, 0.92013310854145], [1.2689418983105851, 1.9280062544904168], [0.92013310854145, 1.9280062544904168]]\n",
      "[[-2.6424154639468513, 0.19088504677006962], [0.6656760051566413, -0.331604202439578], [2.3465265867381286, 0.2739385643669395]]\n",
      "[2.6981811368206037, 1.551630919451561, 1.8929456807455676]\n",
      "[[0.0, 3.3490990107034704, 4.989633320383179], [3.3490990107034704, 0.0, 1.7866003246486095], [4.989633320383179, 1.7866003246486095, 0.0]]\n",
      "[[1.2689418983105851, 0.92013310854145], [1.2689418983105851, 1.9280062544904168], [0.92013310854145, 1.9280062544904168]]\n",
      "[[-2.6424154639468513, 0.19088504677006962], [0.6656760051566413, -0.331604202439578], [2.3465265867381286, 0.2739385643669395]]\n",
      "[2.6981811368206037, 1.551630919451561, 1.8929456807455676]\n",
      "[[0.0, 3.3490990107034704, 4.989633320383179], [3.3490990107034704, 0.0, 1.7866003246486095], [4.989633320383179, 1.7866003246486095, 0.0]]\n",
      "[[1.2689418983105851, 0.92013310854145], [1.2689418983105851, 1.9280062544904168], [0.92013310854145, 1.9280062544904168]]\n",
      "[[-2.6424154639468513, 0.19088504677006962], [0.6656760051566413, -0.331604202439578], [2.3465265867381286, 0.2739385643669395]]\n",
      "[2.6981811368206037, 1.551630919451561, 1.8929456807455676]\n",
      "[[0.0, 3.3490990107034704, 4.989633320383179], [3.3490990107034704, 0.0, 1.7866003246486095], [4.989633320383179, 1.7866003246486095, 0.0]]\n",
      "[[1.2689418983105851, 0.92013310854145], [1.2689418983105851, 1.9280062544904168], [0.92013310854145, 1.9280062544904168]]\n",
      "[[-2.6424154639468513, 0.19088504677006962], [0.6656760051566413, -0.331604202439578], [2.3465265867381286, 0.2739385643669395]]\n",
      "[2.6981811368206037, 1.551630919451561, 1.8929456807455676]\n",
      "[[0.0, 3.3490990107034704, 4.989633320383179], [3.3490990107034704, 0.0, 1.7866003246486095], [4.989633320383179, 1.7866003246486095, 0.0]]\n",
      "[[1.2689418983105851, 0.92013310854145], [1.2689418983105851, 1.9280062544904168], [0.92013310854145, 1.9280062544904168]]\n",
      "[[-2.6424154639468513, 0.19088504677006962], [0.6656760051566413, -0.331604202439578], [2.3465265867381286, 0.2739385643669395]]\n",
      "[2.6981811368206037, 1.551630919451561, 1.8929456807455676]\n",
      "[[0.0, 3.3490990107034704, 4.989633320383179], [3.3490990107034704, 0.0, 1.7866003246486095], [4.989633320383179, 1.7866003246486095, 0.0]]\n",
      "[[1.2689418983105851, 0.92013310854145], [1.2689418983105851, 1.9280062544904168], [0.92013310854145, 1.9280062544904168]]\n",
      "[[-2.6424154639468513, 0.19088504677006962], [0.6656760051566413, -0.331604202439578], [2.3465265867381286, 0.2739385643669395]]\n",
      "[2.6981811368206037, 1.551630919451561, 1.8929456807455676]\n",
      "[[0.0, 3.3490990107034704, 4.989633320383179], [3.3490990107034704, 0.0, 1.7866003246486095], [4.989633320383179, 1.7866003246486095, 0.0]]\n",
      "[[1.2689418983105851, 0.92013310854145], [1.2689418983105851, 1.9280062544904168], [0.92013310854145, 1.9280062544904168]]\n",
      "[[-2.6424154639468513, 0.19088504677006962], [0.6656760051566413, -0.331604202439578], [2.3465265867381286, 0.2739385643669395]]\n",
      "[2.6981811368206037, 1.551630919451561, 1.8929456807455676]\n",
      "[[0.0, 3.3490990107034704, 4.989633320383179], [3.3490990107034704, 0.0, 1.7866003246486095], [4.989633320383179, 1.7866003246486095, 0.0]]\n",
      "[[1.2689418983105851, 0.92013310854145], [1.2689418983105851, 1.9280062544904168], [0.92013310854145, 1.9280062544904168]]\n",
      "[[-2.6424154639468513, 0.19088504677006962], [0.6656760051566413, -0.331604202439578], [2.3465265867381286, 0.2739385643669395]]\n",
      "[2.6981811368206037, 1.551630919451561, 1.8929456807455676]\n",
      "[[0.0, 3.3490990107034704, 4.989633320383179], [3.3490990107034704, 0.0, 1.7866003246486095], [4.989633320383179, 1.7866003246486095, 0.0]]\n",
      "[[1.2689418983105851, 0.92013310854145], [1.2689418983105851, 1.9280062544904168], [0.92013310854145, 1.9280062544904168]]\n",
      "[[-2.6424154639468513, 0.19088504677006962], [0.6656760051566413, -0.331604202439578], [2.3465265867381286, 0.2739385643669395]]\n",
      "[2.6981811368206037, 1.551630919451561, 1.8929456807455676]\n",
      "[[0.0, 3.3490990107034704, 4.989633320383179], [3.3490990107034704, 0.0, 1.7866003246486095], [4.989633320383179, 1.7866003246486095, 0.0]]\n",
      "[[1.2689418983105851, 0.92013310854145], [1.2689418983105851, 1.9280062544904168], [0.92013310854145, 1.9280062544904168]]\n",
      "[[-2.6424154639468513, 0.19088504677006962], [0.6656760051566413, -0.331604202439578], [2.3465265867381286, 0.2739385643669395]]\n",
      "[2.6981811368206037, 1.551630919451561, 1.8929456807455676]\n",
      "[[0.0, 3.3490990107034704, 4.989633320383179], [3.3490990107034704, 0.0, 1.7866003246486095], [4.989633320383179, 1.7866003246486095, 0.0]]\n",
      "[[1.2689418983105851, 0.92013310854145], [1.2689418983105851, 1.9280062544904168], [0.92013310854145, 1.9280062544904168]]\n"
     ]
    },
    {
     "name": "stderr",
     "output_type": "stream",
     "text": [
      "/tmp/ipykernel_15/1921945696.py:4: VisibleDeprecationWarning: Creating an ndarray from ragged nested sequences (which is a list-or-tuple of lists-or-tuples-or ndarrays with different lengths or shapes) is deprecated. If you meant to do this, you must specify 'dtype=object' when creating the ndarray.\n",
      "  assignments = np.asarray(assignments)\n",
      "/tmp/ipykernel_15/2734329497.py:5: VisibleDeprecationWarning: Creating an ndarray from ragged nested sequences (which is a list-or-tuple of lists-or-tuples-or ndarrays with different lengths or shapes) is deprecated. If you meant to do this, you must specify 'dtype=object' when creating the ndarray.\n",
      "  assignments = np.asarray(assignments)\n"
     ]
    }
   ],
   "source": [
    "c_centers = []\n",
    "c_assignments = []\n",
    "db_indices = []\n",
    "\n",
    "for iteration in range(20):\n",
    "    \n",
    "    print(centroids)\n",
    "    assignments = compute_assignments(data, centroids)\n",
    "    centroids = update_centers(data, assignments)\n",
    "    \n",
    "    dbindex = db_index(data, centroids, assignments)\n",
    "    \n",
    "    c_centers.append(centroids)\n",
    "    c_assignments.append(assignments)\n",
    "    db_indices.append(dbindex)"
   ]
  },
  {
   "cell_type": "markdown",
   "id": "4a5ff78d",
   "metadata": {},
   "source": [
    "## 2.6 Evaluation"
   ]
  },
  {
   "cell_type": "markdown",
   "id": "556c9367",
   "metadata": {},
   "source": [
    "### Task 2.6.1 Plotting the DB-Index\n",
    "Plot the DB Index over the iterations. Don't forget to add title, axis ticks, and axis labels to the plot!"
   ]
  },
  {
   "cell_type": "code",
   "execution_count": 28,
   "id": "23008094",
   "metadata": {},
   "outputs": [
    {
     "data": {
      "text/plain": [
       "Text(0, 0.5, 'DB-Index')"
      ]
     },
     "execution_count": 28,
     "metadata": {},
     "output_type": "execute_result"
    },
    {
     "data": {
      "image/png": "[encoded data removed]",
      "text/plain": [
       "<Figure size 432x288 with 1 Axes>"
      ]
     },
     "metadata": {
      "needs_background": "light"
     },
     "output_type": "display_data"
    }
   ],
   "source": [
    "plt.plot(db_indices)\n",
    "plt.title(\"DB-Index over the iterations\")\n",
    "plt.xlabel(\"Iteration\")\n",
    "plt.ylabel(\"DB-Index\")"
   ]
  },
  {
   "cell_type": "markdown",
   "id": "513bb3a3",
   "metadata": {},
   "source": [
    "### Task 2.6.2 Clustered Data vs. Labeled Data\n",
    "In the beginning, we told our _k_-Means algorithm to separate the data into _k_ clusters after determining _k_ based on the number of cluss labels in the dataset.\n",
    "\n",
    "Create two plots side-by-side (using subplots), where one side is showing the clustered data and the other side is showing the partitions of the labeled data. "
   ]
  },
  {
   "cell_type": "code",
   "execution_count": 30,
   "id": "b012a14c",
   "metadata": {},
   "outputs": [
    {
     "name": "stderr",
     "output_type": "stream",
     "text": [
      "/tmp/ipykernel_15/472796802.py:1: VisibleDeprecationWarning: Creating an ndarray from ragged nested sequences (which is a list-or-tuple of lists-or-tuples-or ndarrays with different lengths or shapes) is deprecated. If you meant to do this, you must specify 'dtype=object' when creating the ndarray.\n",
      "  npassignments = np.asarray(assignments)\n"
     ]
    },
    {
     "data": {
      "text/plain": [
       "<matplotlib.collections.PathCollection at 0x7f46960b1bb0>"
      ]
     },
     "execution_count": 30,
     "metadata": {},
     "output_type": "execute_result"
    },
    {
     "data": {
      "image/png": "[encoded data removed]",
      "text/plain": [
       "<Figure size 432x288 with 1 Axes>"
      ]
     },
     "metadata": {
      "needs_background": "light"
     },
     "output_type": "display_data"
    }
   ],
   "source": [
    "npassignments = np.asarray(assignments)\n",
    "x_pos, y_pos = [], []\n",
    "for position in npassignments[:,0]:\n",
    "    x_pos.append(position[0])\n",
    "    y_pos.append(position[1])\n",
    "plt.scatter(x_pos, y_pos, c=npassignments[:,1])"
   ]
  },
  {
   "cell_type": "markdown",
   "id": "182299a3",
   "metadata": {},
   "source": [
    "## 2.7 _k_-Means in the Wild\n",
    "It is quite fun to write the _k_-Means algorithm bottom-up. But, usually, a practitioner would rely on libraries, which have already implemented the algorithm, if possible.\n",
    "_k_-Means is implemented in the `scikit-learn` library, so we are going to use it to cluster somewhat more complex data and visualize the cluster centers."
   ]
  },
  {
   "cell_type": "code",
   "execution_count": 31,
   "id": "8653373f",
   "metadata": {},
   "outputs": [],
   "source": [
    "from sklearn.datasets import load_digits\n",
    "from sklearn.cluster import KMeans"
   ]
  },
  {
   "cell_type": "markdown",
   "id": "23d20cc6",
   "metadata": {},
   "source": [
    "### Task 2.7.1 Digits Data and the _k_-Question\n",
    "Load the [Digits Dataset](https://scikit-learn.org/stable/datasets/toy_dataset.html#digits-dataset) and decide on a reasonable number of cluster centers."
   ]
  },
  {
   "cell_type": "code",
   "execution_count": 32,
   "id": "f6a6aabc",
   "metadata": {},
   "outputs": [],
   "source": [
    "digits = load_digits()\n",
    "k = 10"
   ]
  },
  {
   "cell_type": "markdown",
   "id": "1dcd07b6",
   "metadata": {},
   "source": [
    "### Task 2.7.2 Run the _k_-Means Algorithm\n",
    "Use the provided _k_-Means object on the digits data and extract the cluster centers."
   ]
  },
  {
   "cell_type": "code",
   "execution_count": 33,
   "id": "9ece7d80",
   "metadata": {},
   "outputs": [],
   "source": [
    "kmeans = KMeans(k)\n",
    "digit_data = kmeans.fit_transform(digits.data)\n",
    "cluster_centers = kmeans.cluster_centers_"
   ]
  },
  {
   "cell_type": "markdown",
   "id": "03cbd617",
   "metadata": {},
   "source": [
    "### 2.7.3 Plot the Cluster Centers\n",
    "Plot all the extracted cluster centers as images."
   ]
  },
  {
   "cell_type": "code",
   "execution_count": 34,
   "id": "4b3f5488",
   "metadata": {
    "tags": []
   },
   "outputs": [
    {
     "data": {
      "image/png": "[encoded data removed]",
      "text/plain": [
       "<Figure size 432x288 with 1 Axes>"
      ]
     },
     "metadata": {
      "needs_background": "light"
     },
     "output_type": "display_data"
    },
    {
     "data": {
      "image/png": "[encoded data removed]",
      "text/plain": [
       "<Figure size 432x288 with 1 Axes>"
      ]
     },
     "metadata": {
      "needs_background": "light"
     },
     "output_type": "display_data"
    },
    {
     "data": {
      "image/png": "[encoded data removed]",
      "text/plain": [
       "<Figure size 432x288 with 1 Axes>"
      ]
     },
     "metadata": {
      "needs_background": "light"
     },
     "output_type": "display_data"
    },
    {
     "data": {
      "image/png": "[encoded data removed]",
      "text/plain": [
       "<Figure size 432x288 with 1 Axes>"
      ]
     },
     "metadata": {
      "needs_background": "light"
     },
     "output_type": "display_data"
    },
    {
     "data": {
      "image/png": "[encoded data removed]",
      "text/plain": [
       "<Figure size 432x288 with 1 Axes>"
      ]
     },
     "metadata": {
      "needs_background": "light"
     },
     "output_type": "display_data"
    },
    {
     "data": {
      "image/png": "[encoded data removed]",
      "text/plain": [
       "<Figure size 432x288 with 1 Axes>"
      ]
     },
     "metadata": {
      "needs_background": "light"
     },
     "output_type": "display_data"
    },
    {
     "data": {
      "image/png": "[encoded data removed]",
      "text/plain": [
       "<Figure size 432x288 with 1 Axes>"
      ]
     },
     "metadata": {
      "needs_background": "light"
     },
     "output_type": "display_data"
    },
    {
     "data": {
      "image/png": "[encoded data removed]",
      "text/plain": [
       "<Figure size 432x288 with 1 Axes>"
      ]
     },
     "metadata": {
      "needs_background": "light"
     },
     "output_type": "display_data"
    },
    {
     "data": {
      "image/png": "[encoded data removed]",
      "text/plain": [
       "<Figure size 432x288 with 1 Axes>"
      ]
     },
     "metadata": {
      "needs_background": "light"
     },
     "output_type": "display_data"
    },
    {
     "data": {
      "image/png": "[encoded data removed]",
      "text/plain": [
       "<Figure size 432x288 with 1 Axes>"
      ]
     },
     "metadata": {
      "needs_background": "light"
     },
     "output_type": "display_data"
    }
   ],
   "source": [
    "for index in range(len(cluster_centers)):\n",
    "    im = cluster_centers[index].reshape(8, 8)\n",
    "\n",
    "    plt.imshow(im, aspect='equal')\n",
    "\n",
    "    plt.xticks(np.arange(len(im)))\n",
    "    plt.title(\"Cluster: \" + str(index))\n",
    "    plt.ylabel(\"Y Pixels\")\n",
    "    plt.xlabel(\"X Pixels\")\n",
    "    plt.show()"
   ]
  },
  {
   "cell_type": "markdown",
   "id": "cd20266e",
   "metadata": {},
   "source": [
    "Now you have implemented the _k_-Means algorithm bottom-up as well as using the corresponding libraries in a sensible way. Good work!"
   ]
  },
  {
   "cell_type": "code",
   "execution_count": null,
   "id": "5ea67fc3",
   "metadata": {},
   "outputs": [],
   "source": []
  }
 ],
 "metadata": {
  "kernelspec": {
   "display_name": "Python 3 (ipykernel)",
   "language": "python",
   "name": "python3"
  },
  "language_info": {
   "codemirror_mode": {
    "name": "ipython",
    "version": 3
   },
   "file_extension": ".py",
   "mimetype": "text/x-python",
   "name": "python",
   "nbconvert_exporter": "python",
   "pygments_lexer": "ipython3",
   "version": "3.9.2"
  }
 },
 "nbformat": 4,
 "nbformat_minor": 5
}
