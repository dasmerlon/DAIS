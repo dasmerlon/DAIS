{
 "cells": [
  {
   "cell_type": "markdown",
   "id": "6e30b519",
   "metadata": {},
   "source": [
    "# 1 Plotting and Data Visualization"
   ]
  },
  {
   "cell_type": "markdown",
   "id": "d0432e7c",
   "metadata": {},
   "source": [
    "In this notebook we want to get familiar with plotting and the Python library `matplotlib`. Plotting is an essential tool for data exploration that can help you to get an intuition about certain characteristics and features of data.\n",
    "\n",
    "\n",
    "[Matplotlib](https://matplotlib.org/) is probably the most widely used Python library and will be the one we are using in this course. However, there are also other alternatives that might be interesting for you, for instance [Seaborn](https://seaborn.pydata.org/) or [Plotly](https://plotly.com/) (for this course, we expect you to stick to matplotlib)."
   ]
  },
  {
   "cell_type": "markdown",
   "id": "6ae605eb",
   "metadata": {},
   "source": [
    "Let's install and import `matplotlib`:"
   ]
  },
  {
   "cell_type": "code",
   "execution_count": 2,
   "id": "20396ccc",
   "metadata": {},
   "outputs": [
    {
     "name": "stdout",
     "output_type": "stream",
     "text": [
      "Requirement already satisfied: matplotlib==3.5.1 in /usr/local/lib/python3.9/dist-packages (3.5.1)\n",
      "Requirement already satisfied: packaging>=20.0 in /usr/local/lib/python3.9/dist-packages (from matplotlib==3.5.1) (21.3)\n",
      "Requirement already satisfied: pyparsing>=2.2.1 in /usr/local/lib/python3.9/dist-packages (from matplotlib==3.5.1) (3.0.8)\n",
      "Requirement already satisfied: fonttools>=4.22.0 in /usr/local/lib/python3.9/dist-packages (from matplotlib==3.5.1) (4.33.2)\n",
      "Requirement already satisfied: pillow>=6.2.0 in /usr/local/lib/python3.9/dist-packages (from matplotlib==3.5.1) (9.1.0)\n",
      "Requirement already satisfied: kiwisolver>=1.0.1 in /usr/local/lib/python3.9/dist-packages (from matplotlib==3.5.1) (1.4.2)\n",
      "Requirement already satisfied: python-dateutil>=2.7 in /usr/local/lib/python3.9/dist-packages (from matplotlib==3.5.1) (2.8.2)\n",
      "Requirement already satisfied: numpy>=1.17 in /usr/local/lib/python3.9/dist-packages (from matplotlib==3.5.1) (1.22.3)\n",
      "Requirement already satisfied: cycler>=0.10 in /usr/local/lib/python3.9/dist-packages (from matplotlib==3.5.1) (0.11.0)\n",
      "Requirement already satisfied: six>=1.5 in /usr/local/lib/python3.9/dist-packages (from python-dateutil>=2.7->matplotlib==3.5.1) (1.16.0)\n"
     ]
    }
   ],
   "source": [
    "!pip install matplotlib==3.5.1"
   ]
  },
  {
   "cell_type": "code",
   "execution_count": 3,
   "id": "b2caec9b",
   "metadata": {},
   "outputs": [],
   "source": [
    "import matplotlib.pyplot as plt\n",
    "%matplotlib inline\n",
    "import numpy as np #numpy will always have our back"
   ]
  },
  {
   "cell_type": "markdown",
   "id": "53843063",
   "metadata": {},
   "source": [
    "## 1.1 Obtaining a dataset"
   ]
  },
  {
   "cell_type": "markdown",
   "id": "9a04cbb1",
   "metadata": {},
   "source": [
    "For illustration purposes, we will use datasets that are canon in machine learning and data science. Those datasets are already preprocessed and easily obtainable through the [scikit-learn](https://scikit-learn.org/stable/) library.\n",
    "\n",
    "Now, let's install and import `scikit-learn` and load the dataset."
   ]
  },
  {
   "cell_type": "code",
   "execution_count": 4,
   "id": "99c496a7",
   "metadata": {},
   "outputs": [
    {
     "name": "stdout",
     "output_type": "stream",
     "text": [
      "Requirement already satisfied: scikit-learn==1.0.2 in /usr/local/lib/python3.9/dist-packages (1.0.2)\n",
      "Requirement already satisfied: scipy>=1.1.0 in /usr/local/lib/python3.9/dist-packages (from scikit-learn==1.0.2) (1.8.0)\n",
      "Requirement already satisfied: joblib>=0.11 in /usr/local/lib/python3.9/dist-packages (from scikit-learn==1.0.2) (1.1.0)\n",
      "Requirement already satisfied: numpy>=1.14.6 in /usr/local/lib/python3.9/dist-packages (from scikit-learn==1.0.2) (1.22.3)\n",
      "Requirement already satisfied: threadpoolctl>=2.0.0 in /usr/local/lib/python3.9/dist-packages (from scikit-learn==1.0.2) (3.1.0)\n"
     ]
    }
   ],
   "source": [
    "!pip install scikit-learn==1.0.2"
   ]
  },
  {
   "cell_type": "code",
   "execution_count": 5,
   "id": "fffe5892",
   "metadata": {},
   "outputs": [],
   "source": [
    "from sklearn import datasets\n",
    "diabetes = datasets.load_diabetes()"
   ]
  },
  {
   "cell_type": "markdown",
   "id": "fde7fd54",
   "metadata": {},
   "source": [
    "Now we have the Diabetes Patients dataset. Let's try to explore it with ```matplotlib```."
   ]
  },
  {
   "cell_type": "code",
   "execution_count": 6,
   "id": "6d087cca",
   "metadata": {},
   "outputs": [
    {
     "name": "stdout",
     "output_type": "stream",
     "text": [
      "(442, 10)\n"
     ]
    }
   ],
   "source": [
    "print(diabetes[\"data\"].shape)"
   ]
  },
  {
   "cell_type": "markdown",
   "id": "fee4627f",
   "metadata": {},
   "source": [
    "As you can see, we have 442 samples with 10 features (Actually, there is an 11th feature, the target, which denotes the response variable, a measure of disease progression one year after baseline). Now, have a look at what features we are dealing with:"
   ]
  },
  {
   "cell_type": "code",
   "execution_count": 7,
   "id": "98681be0",
   "metadata": {
    "scrolled": true
   },
   "outputs": [
    {
     "name": "stdout",
     "output_type": "stream",
     "text": [
      "['age', 'sex', 'bmi', 'bp', 's1', 's2', 's3', 's4', 's5', 's6']\n"
     ]
    }
   ],
   "source": [
    "print(diabetes[\"feature_names\"])"
   ]
  },
  {
   "cell_type": "markdown",
   "id": "0188a322",
   "metadata": {},
   "source": [
    "Some of the given abbreviations may seem rightfully cryptic to you, more information can be found in the dataset description:"
   ]
  },
  {
   "cell_type": "code",
   "execution_count": 8,
   "id": "20617b94",
   "metadata": {},
   "outputs": [
    {
     "name": "stdout",
     "output_type": "stream",
     "text": [
      ".. _diabetes_dataset:\n",
      "\n",
      "Diabetes dataset\n",
      "----------------\n",
      "\n",
      "Ten baseline variables, age, sex, body mass index, average blood\n",
      "pressure, and six blood serum measurements were obtained for each of n =\n",
      "442 diabetes patients, as well as the response of interest, a\n",
      "quantitative measure of disease progression one year after baseline.\n",
      "\n",
      "**Data Set Characteristics:**\n",
      "\n",
      "  :Number of Instances: 442\n",
      "\n",
      "  :Number of Attributes: First 10 columns are numeric predictive values\n",
      "\n",
      "  :Target: Column 11 is a quantitative measure of disease progression one year after baseline\n",
      "\n",
      "  :Attribute Information:\n",
      "      - age     age in years\n",
      "      - sex\n",
      "      - bmi     body mass index\n",
      "      - bp      average blood pressure\n",
      "      - s1      tc, total serum cholesterol\n",
      "      - s2      ldl, low-density lipoproteins\n",
      "      - s3      hdl, high-density lipoproteins\n",
      "      - s4      tch, total cholesterol / HDL\n",
      "      - s5      ltg, possibly log of serum triglycerides level\n",
      "      - s6      glu, blood sugar level\n",
      "\n",
      "Note: Each of these 10 feature variables have been mean centered and scaled by the standard deviation times `n_samples` (i.e. the sum of squares of each column totals 1).\n",
      "\n",
      "Source URL:\n",
      "https://www4.stat.ncsu.edu/~boos/var.select/diabetes.html\n",
      "\n",
      "For more information see:\n",
      "Bradley Efron, Trevor Hastie, Iain Johnstone and Robert Tibshirani (2004) \"Least Angle Regression,\" Annals of Statistics (with discussion), 407-499.\n",
      "(https://web.stanford.edu/~hastie/Papers/LARS/LeastAngle_2002.pdf)\n"
     ]
    }
   ],
   "source": [
    "print(diabetes.DESCR)"
   ]
  },
  {
   "cell_type": "markdown",
   "id": "346c6efd",
   "metadata": {},
   "source": [
    "## 1.2 Visualize features"
   ]
  },
  {
   "cell_type": "markdown",
   "id": "20041927",
   "metadata": {},
   "source": [
    "Now, we want to get to know more about a feature, how it is distributed, and what we can learn from it. Therefore, we will pick out one of the features and plot them in different ways. \n",
    "\n",
    "As an example feature, we will take \"bp\", the blood pressure measurement."
   ]
  },
  {
   "cell_type": "markdown",
   "id": "3ca10abf",
   "metadata": {},
   "source": [
    "### Task 1.2.1: Get the feature\n",
    "Isolate the feature \"bp\" from the data and save the vector into the provided variable _bp_."
   ]
  },
  {
   "cell_type": "code",
   "execution_count": 147,
   "id": "d737b9c5",
   "metadata": {},
   "outputs": [],
   "source": [
    "bp = diabetes.data[:, 3]"
   ]
  },
  {
   "cell_type": "markdown",
   "id": "c174b645",
   "metadata": {},
   "source": [
    "### Task 1.2.2: Describe the data\n",
    "Use the skills you learnt in the lecture and the last assignment (and `numpy`), to extract meaningful properties from the data:\n",
    "- Attribute type (scale) of the data\n",
    "- Mean\n",
    "- Median\n",
    "- Maximum value\n",
    "- Minimum value\n",
    "- Variance\n",
    "\n",
    "_Note that the data of this ready-to-use dataset have been already mean centered and scaled proportional to standard deviation. However, extracting the common properties like mean, median etc. helps you to have a good first impression of the data._)"
   ]
  },
  {
   "cell_type": "code",
   "execution_count": 149,
   "id": "df1b3353",
   "metadata": {},
   "outputs": [],
   "source": [
    "# interval scaled -> no zero point\n",
    "bp_mean = np.mean(bp)\n",
    "bp_median = np.median(bp)\n",
    "bp_max = np.max(bp)\n",
    "bp_min = np.min(bp)\n",
    "bp_var = np.var(bp)"
   ]
  },
  {
   "cell_type": "markdown",
   "id": "2c59475e",
   "metadata": {},
   "source": [
    "### Task 1.2.3: Show the distribution\n",
    "Now, we are interested in the distribution of blood pressure in diabetes patients and therefore want to sort patients' blood pressure data into \"buckets\" in a histogram. \n",
    "\n",
    "_Have a look at the sample plots in on the [matplotlib website](https://matplotlib.org/stable/gallery/statistics/histogram_features.html)._\n",
    "\n",
    "**Do not forget to label your axes correctly and give your plot a suitable title!**"
   ]
  },
  {
   "cell_type": "code",
   "execution_count": 183,
   "id": "5e929728",
   "metadata": {},
   "outputs": [
    {
     "data": {
      "image/png": "[encoded data removed]",
      "text/plain": [
       "<Figure size 432x288 with 1 Axes>"
      ]
     },
     "metadata": {
      "needs_background": "light"
     },
     "output_type": "display_data"
    }
   ],
   "source": [
    "# Easy Solution\n",
    "# plt.hist(bp)\n",
    "# plt.title(\"Distribution of Blood Pressure in Diabetes Patients\")\n",
    "# plt.ylabel(\"Number of Patients\")\n",
    "# plt.xlabel(\"Normalized Blood Pressure\")\n",
    "# plt.show()\n",
    "\n",
    "# Better Solution\n",
    "from matplotlib.ticker import FormatStrFormatter\n",
    "\n",
    "fig, ax = plt.subplots()\n",
    "# Ec -> edge color\n",
    "_, bins, _ = ax.hist(bp, ec='black')\n",
    "\n",
    "# Set the ticks to be at the edges of the bins.\n",
    "ax.set_xticks(bins)\n",
    "# Set the xaxis's tick labels to be formatted with 2 decimal places.\n",
    "ax.xaxis.set_major_formatter(FormatStrFormatter('%0.2f'))\n",
    "\n",
    "plt.title(\"Distribution of blood pressure in diabetes patients\")\n",
    "plt.xlabel(\"Average blood pressure\")\n",
    "plt.ylabel(\"Number of patients\")\n",
    "plt.show()"
   ]
  },
  {
   "cell_type": "markdown",
   "id": "e7e25e52",
   "metadata": {},
   "source": [
    "### Bonus Task 1.2.4: What type of function could describe the data approximately?"
   ]
  },
  {
   "cell_type": "code",
   "execution_count": 184,
   "id": "fa9f0dc8",
   "metadata": {},
   "outputs": [],
   "source": [
    "# Poisson Distribution (Positively skewed data)"
   ]
  },
  {
   "cell_type": "markdown",
   "id": "4a0b15c5",
   "metadata": {},
   "source": [
    "### Task 1.2.5: Show the boxplot and describe it\n",
    "Now that you know how to plot with matplotlib, you are tasked to create a box and whiskers plot of the data. Have a look at the [official matplotlib documentation](https://matplotlib.org/stable/api/_as_gen/matplotlib.pyplot.boxplot.html) if you need some guidance. Additionally, give a quick description of the plot and what you learn from it about the data, especially in terms of _outliers_."
   ]
  },
  {
   "cell_type": "code",
   "execution_count": 207,
   "id": "a9691af6",
   "metadata": {},
   "outputs": [
    {
     "data": {
      "image/png": "[encoded data removed]",
      "text/plain": [
       "<Figure size 432x288 with 1 Axes>"
      ]
     },
     "metadata": {
      "needs_background": "light"
     },
     "output_type": "display_data"
    },
    {
     "data": {
      "text/plain": [
       "\"\\nIt shows that there are some outliers for each feature (excluding obviously the sex). Only the age and the s5 feature have some to none which means that\\nthere is most likely only a selected agespan for the data. Also s5 is not likely to be not in the norm. Lastly the bp feature has no outliers aswell. This shows that there is probably \\nno abnormal bloodpressure meassured or that many times that it is already the same as the normal value amount.\\n\\nThere are outliers for most of the features. These are almost exclusivly in the positive range except for the 's6'-feature.\\nAge, sex and bp have no outliers.\\n\""
      ]
     },
     "execution_count": 207,
     "metadata": {},
     "output_type": "execute_result"
    }
   ],
   "source": [
    "plt.boxplot(diabetes.data, labels=diabetes[\"feature_names\"])\n",
    "plt.title(\"Diabetes Data in Boxplot\")\n",
    "plt.xlabel(\"Feature\")\n",
    "plt.ylabel(\"Normalized data\")\n",
    "plt.show()\n",
    "#plt.xlabel(\"Blood Pressure Feature\")\n",
    "#plt.ylabel(\"Normalized Blood Pressure\")\n",
    "#plt.boxplot(bp)\n",
    "\n",
    "\"\"\"\n",
    "It shows that there are some outliers for each feature (excluding obviously the sex). Only the age and the s5 feature have some to none which means that\n",
    "there is most likely only a selected agespan for the data. Also s5 is not likely to be not in the norm. Lastly the bp feature has no outliers aswell. This shows that there is probably \n",
    "no abnormal bloodpressure meassured or that many times that it is already the same as the normal value amount.\n",
    "\n",
    "There are outliers for most of the features. These are almost exclusivly in the positive range except for the 's6'-feature.\n",
    "Age, sex and bp have no outliers.\n",
    "\"\"\""
   ]
  },
  {
   "cell_type": "markdown",
   "id": "5e853924",
   "metadata": {},
   "source": [
    "## 1.3 Visualize 2D data\n",
    "After we have looked at the characteristics of a single feature, let's see how `matplotlib` can help to visualise two-dimensional data and single samples. Prominent 2D data are greyscale photos or images, where the two dimensions are the x and y positions of the pixel values."
   ]
  },
  {
   "cell_type": "markdown",
   "id": "aaeb26aa",
   "metadata": {},
   "source": [
    "### 1.3.1 Obtain an image dataset\n",
    "Fortunately, `scikit-learn` also provides a dataset with pixel images as samples."
   ]
  },
  {
   "cell_type": "code",
   "execution_count": 45,
   "id": "6fde4a2b",
   "metadata": {
    "scrolled": true
   },
   "outputs": [
    {
     "name": "stdout",
     "output_type": "stream",
     "text": [
      "dict_keys(['data', 'target', 'frame', 'feature_names', 'target_names', 'images', 'DESCR'])\n"
     ]
    }
   ],
   "source": [
    "digits = datasets.load_digits()\n",
    "print(digits.keys())"
   ]
  },
  {
   "cell_type": "markdown",
   "id": "323c202a",
   "metadata": {},
   "source": [
    "Let's go the usual route and have a look at the shape of the data."
   ]
  },
  {
   "cell_type": "code",
   "execution_count": 15,
   "id": "97558801",
   "metadata": {},
   "outputs": [
    {
     "name": "stdout",
     "output_type": "stream",
     "text": [
      "(1797, 64)\n"
     ]
    }
   ],
   "source": [
    "print(digits[\"data\"].shape)"
   ]
  },
  {
   "cell_type": "markdown",
   "id": "ea70faa0",
   "metadata": {},
   "source": [
    "So, we have 1797 samples with 64 features each. That means, if we isolate a feature vector for a single sample, it has 64 features. But aren't we dealing with images that are usually 2-dimensional?\n",
    "\n",
    "Perhaps the feature names can give more insight:"
   ]
  },
  {
   "cell_type": "code",
   "execution_count": 16,
   "id": "5ae8977e",
   "metadata": {},
   "outputs": [
    {
     "name": "stdout",
     "output_type": "stream",
     "text": [
      "['pixel_0_0', 'pixel_0_1', 'pixel_0_2', 'pixel_0_3', 'pixel_0_4', 'pixel_0_5', 'pixel_0_6', 'pixel_0_7', 'pixel_1_0', 'pixel_1_1', 'pixel_1_2', 'pixel_1_3', 'pixel_1_4', 'pixel_1_5', 'pixel_1_6', 'pixel_1_7', 'pixel_2_0', 'pixel_2_1', 'pixel_2_2', 'pixel_2_3', 'pixel_2_4', 'pixel_2_5', 'pixel_2_6', 'pixel_2_7', 'pixel_3_0', 'pixel_3_1', 'pixel_3_2', 'pixel_3_3', 'pixel_3_4', 'pixel_3_5', 'pixel_3_6', 'pixel_3_7', 'pixel_4_0', 'pixel_4_1', 'pixel_4_2', 'pixel_4_3', 'pixel_4_4', 'pixel_4_5', 'pixel_4_6', 'pixel_4_7', 'pixel_5_0', 'pixel_5_1', 'pixel_5_2', 'pixel_5_3', 'pixel_5_4', 'pixel_5_5', 'pixel_5_6', 'pixel_5_7', 'pixel_6_0', 'pixel_6_1', 'pixel_6_2', 'pixel_6_3', 'pixel_6_4', 'pixel_6_5', 'pixel_6_6', 'pixel_6_7', 'pixel_7_0', 'pixel_7_1', 'pixel_7_2', 'pixel_7_3', 'pixel_7_4', 'pixel_7_5', 'pixel_7_6', 'pixel_7_7']\n"
     ]
    }
   ],
   "source": [
    "print(digits[\"feature_names\"])"
   ]
  },
  {
   "cell_type": "markdown",
   "id": "ec9fa903",
   "metadata": {},
   "source": [
    "From the feature names, we can conclude that the pixel values are represented in a vector, row for row. In order to plot it as a picture, we need a 2D representation, though.\n",
    "\n",
    "Therefore our tasks are now: \n",
    "- 1.) isolate the feature vector of a single sample\n",
    "- 2.) reshape the vector into a 2D matrix\n",
    "- 3.) plot the image using `matplotlib`"
   ]
  },
  {
   "cell_type": "markdown",
   "id": "3c09535b",
   "metadata": {},
   "source": [
    "### Task 1.3.1 Isolate a feature vector\n",
    "This task can be seen as the \"inverse\" of task 1.2.1. But now, instead of a single feature over all samples, we want all the features for a single sample!\n",
    "\n",
    "Isolate a sample of your choice and save it in the variable _digit_."
   ]
  },
  {
   "cell_type": "code",
   "execution_count": 169,
   "id": "bc517988",
   "metadata": {},
   "outputs": [
    {
     "name": "stdout",
     "output_type": "stream",
     "text": [
      "(64,)\n"
     ]
    }
   ],
   "source": [
    "digit = digits[\"data\"][0, :]\n",
    "print(digit.shape)"
   ]
  },
  {
   "cell_type": "markdown",
   "id": "db0984dc",
   "metadata": {},
   "source": [
    "### Task 1.3.2 Reshape the vector into a 2D matrix\n",
    "Now, you should have a vector of length 64. The image samples of the dataset are square. So now you need to reshape the vector into the appropriate shape using Numpy. Save the resulting matrix into the variable _im_.\n",
    "\n",
    "Hint: a helpful function is [numpy.reshape](https://numpy.org/doc/stable/reference/generated/numpy.reshape.html)."
   ]
  },
  {
   "cell_type": "code",
   "execution_count": 170,
   "id": "f6275cee",
   "metadata": {},
   "outputs": [
    {
     "name": "stdout",
     "output_type": "stream",
     "text": [
      "(8, 8)\n"
     ]
    }
   ],
   "source": [
    "im = digit.reshape(8, 8)\n",
    "print(im.shape)"
   ]
  },
  {
   "cell_type": "markdown",
   "id": "3ec366e6",
   "metadata": {},
   "source": [
    "### Task 1.3.3 Plot the image\n",
    "Use the skills obtained above to plot the sample using the ```imshow``` [function from matplotlib](https://matplotlib.org/stable/api/_as_gen/matplotlib.pyplot.imshow.html).\n",
    "\n",
    "**Keep in mind: No plot without title and axes labels!**"
   ]
  },
  {
   "cell_type": "code",
   "execution_count": 206,
   "id": "34c7fee7",
   "metadata": {},
   "outputs": [
    {
     "data": {
      "image/png": "[encoded data removed]",
      "text/plain": [
       "<Figure size 432x288 with 1 Axes>"
      ]
     },
     "metadata": {
      "needs_background": "light"
     },
     "output_type": "display_data"
    }
   ],
   "source": [
    "# aspect='equal' -> make pixel square\n",
    "plt.imshow(im, aspect='equal')\n",
    "# Dont skip Pixels in scale\n",
    "plt.xticks(np.arange(len(im)))\n",
    "plt.title(\"The reshaped image\")\n",
    "plt.ylabel(\"Y Pixels\")\n",
    "plt.xlabel(\"X Pixels\")\n",
    "plt.show()"
   ]
  },
  {
   "cell_type": "markdown",
   "id": "c9e4b1f0",
   "metadata": {},
   "source": [
    "## Task 1.4 Visual recognition of correlations\n",
    "\n",
    "In this task your job is to plot different attributes against each other in a scatterplot to find out if the selected attributes are linearly correlated."
   ]
  },
  {
   "cell_type": "markdown",
   "id": "9a3aa9f8",
   "metadata": {},
   "source": [
    "### Task 1.4.1 BMI and Blood Pressure\n",
    "\n",
    "We assume a positive correlation between the body mass index (BMI) of a person and their blood pressure.\n",
    "Plot the asscociated attributes against each other and analyze the plot to find out if this is true."
   ]
  },
  {
   "cell_type": "code",
   "execution_count": 205,
   "id": "dd6d6d49",
   "metadata": {},
   "outputs": [
    {
     "data": {
      "image/png": "[encoded data removed]",
      "text/plain": [
       "<Figure size 432x288 with 1 Axes>"
      ]
     },
     "metadata": {
      "needs_background": "light"
     },
     "output_type": "display_data"
    }
   ],
   "source": [
    "fig, ax = plt.subplots()\n",
    "bmi = diabetes.data[:, 2]\n",
    "ax.scatter(bp, bmi, label=\"Data\")\n",
    "# np.unique -> Unique value from array\n",
    "# np.poly1d -> Least squared polynominal fit\n",
    "# function found on internet (not needed but helpful)\n",
    "plt.plot(np.unique(bp), np.poly1d(np.polyfit(bp, bmi, 1))(np.unique(bp)), color=\"red\", label=\"Regress. Line\")\n",
    "plt.legend()\n",
    "plt.title(\"BMI vs Blood Presure\")\n",
    "plt.xlabel(\"Normalized Blood Pressure\")\n",
    "plt.ylabel(\"Normalized BMI\")\n",
    "plt.show()\n",
    "\n",
    "\n",
    "# Yes since the curve has a positive pitch"
   ]
  },
  {
   "cell_type": "markdown",
   "id": "ba8a5409",
   "metadata": {},
   "source": [
    "### Task 1.4.2 Age and Diabetes Disease Progression\n",
    "\n",
    "As a layman, one could assume that the older a patient is, the worse their status of diabetes progression. Therefore, we assume that both features have a positive linear correlation. Plot the asscociated attributes against each other and analyze the plot to find out if this assumption is true."
   ]
  },
  {
   "cell_type": "code",
   "execution_count": 204,
   "id": "c3a27f36",
   "metadata": {},
   "outputs": [
    {
     "data": {
      "image/png": "[encoded data removed]",
      "text/plain": [
       "<Figure size 576x576 with 1 Axes>"
      ]
     },
     "metadata": {
      "needs_background": "light"
     },
     "output_type": "display_data"
    }
   ],
   "source": [
    "plt.figure(figsize=[8, 8])\n",
    "target = diabetes[\"target\"]\n",
    "age = diabetes.data[:, 0]\n",
    "plt.scatter(age, target, label=\"Data\")\n",
    "# ax.plot(np.unique(age), np.poly1d(np.polyfit(age, target, 1))(np.unique(age)), color=\"red\", label=\"Regress. Line\")\n",
    "plt.legend()\n",
    "plt.title(\"Age vs Target Value (condition of the patient after 1 year)\")\n",
    "plt.xlabel(\"Normalized Age\")\n",
    "plt.ylabel(\"Condition\")\n",
    "plt.show()\n",
    "\n",
    "\n",
    "# Without the regression line there is no correlation visible because the points are too scattered and there is no orientation"
   ]
  },
  {
   "cell_type": "markdown",
   "id": "0630eb4a",
   "metadata": {},
   "source": [
    "### Task 1.4.3 High-Density Lipoproteins and Diabetes Disease Progression\n",
    "Some correlations between features might be difficult to estimate/assume when dealing with new data. Let's explore the influence on high-density lipoproteins on diabetes disease progression.\n",
    "\n",
    "Plot the asscociated attributes against each other and analyze the plot to find out if there is some correlation."
   ]
  },
  {
   "cell_type": "code",
   "execution_count": 219,
   "id": "7842afb8",
   "metadata": {},
   "outputs": [
    {
     "data": {
      "image/png": "[encoded data removed]",
      "text/plain": [
       "<Figure size 576x576 with 1 Axes>"
      ]
     },
     "metadata": {
      "needs_background": "light"
     },
     "output_type": "display_data"
    }
   ],
   "source": [
    "# Take all features from s1 to s6 -> num_features = 6\n",
    "# num_features = len(diabetes[\"feature_names\"][4:])\n",
    "# fig, axes = plt.subplots(num_features, figsize=[8, 25])\n",
    "\n",
    "# # Add Subplots\n",
    "# for x in range(0, num_features):\n",
    "#     x_val = diabetes[\"data\"][:, x + 4]\n",
    "#     axes[x].scatter(x_val, target)\n",
    "#     axes[x].plot(np.unique(x_val), np.poly1d(np.polyfit(x_val, target, 1))(np.unique(x_val)), color=\"red\", label=\"Regress. Line\")\n",
    "#     axes[x].set_title(diabetes[\"feature_names\"][x + 4] + \" vs. target\")\n",
    "    \n",
    "# fig.suptitle(\"S1-6 vs Condition after one year\\n\")\n",
    "# fig.supylabel(\"Condition of patient\")\n",
    "# fig.supxlabel(\"Normalized Feature Value\")\n",
    "# plt.tight_layout()\n",
    "# plt.show()\n",
    "\n",
    "x_val = diabetes[\"data\"][:, 6]\n",
    "plt.figure(figsize=[8, 8])\n",
    "plt.scatter(x_val, target)\n",
    "plt.title(\"Correlation between high-density lipoproteins and diabetes progression\")\n",
    "plt.ylabel(\"Diabetes disease progression of patient\")\n",
    "plt.xlabel(\"Normalized high-density lipoproteins value\")\n",
    "plt.show()\n",
    "    \n",
    "# Lipoproteins (s3) vs target_value has a negative correlation."
   ]
  }
 ],
 "metadata": {
  "kernelspec": {
   "display_name": "Python 3 (ipykernel)",
   "language": "python",
   "name": "python3"
  },
  "language_info": {
   "codemirror_mode": {
    "name": "ipython",
    "version": 3
   },
   "file_extension": ".py",
   "mimetype": "text/x-python",
   "name": "python",
   "nbconvert_exporter": "python",
   "pygments_lexer": "ipython3",
   "version": "3.9.2"
  }
 },
 "nbformat": 4,
 "nbformat_minor": 5
}
